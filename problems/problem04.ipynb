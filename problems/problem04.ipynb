{
 "cells": [
  {
   "cell_type": "markdown",
   "metadata": {},
   "source": [
    "# Iterable에 사용가능한 함수\n",
    "\n",
    "> `map`, `filter`, `zip` 이외의 함수들"
   ]
  },
  {
   "cell_type": "markdown",
   "metadata": {},
   "source": [
    "## `all()`\n",
    "\n",
    "> all은 인자로 받는 iterable(range, list)의 모든 요소가 참이거나 비어있으면 True를 반환합니다.\n",
    ">\n",
    "> 이와 같은 my_all(x)을 작성해보세요"
   ]
  },
  {
   "cell_type": "code",
   "execution_count": null,
   "metadata": {},
   "outputs": [],
   "source": [
    "# 예제 입력 및 출력\n",
    "print(all([1, 2, 5, '6']))\n",
    "print(all([[], 2, 5, '6']))\n",
    "print(bool(1))\n",
    "print(bool(2))\n",
    "print(bool()) # 비어있는 경우 False임"
   ]
  },
  {
   "cell_type": "code",
   "execution_count": null,
   "metadata": {},
   "outputs": [],
   "source": [
    "# 아래에 코드를 작성해주세요.\n",
    "def my_all(x):\n",
    "    for i in x:\n",
    "        if bool(i) == True:\n",
    "            return True\n",
    "        else:\n",
    "            return False"
   ]
  },
  {
   "cell_type": "code",
   "execution_count": null,
   "metadata": {},
   "outputs": [],
   "source": [
    "# 예제 입력 및 출력\n",
    "print(my_all([1, 2, 5, '6']))\n",
    "print(my_all([[], 2, 5, '6']))"
   ]
  },
  {
   "cell_type": "markdown",
   "metadata": {},
   "source": [
    "## `any()`\n",
    "\n",
    "> any는 인자로 받는 iterable(range, list)의 요소 중 하나라도 참이면 True를 반환하고, 비어있으면 False를 반환합니다.\n",
    ">\n",
    "> 이와 같은 my_any(x)를 작성해보세요."
   ]
  },
  {
   "cell_type": "code",
   "execution_count": null,
   "metadata": {},
   "outputs": [],
   "source": [
    "# 예제 입력 및 출력\n",
    "print(any([1, 2, 5, '6']))\n",
    "print(any([[], 2, 5, '6']))\n",
    "print(any([0]))"
   ]
  },
  {
   "cell_type": "code",
   "execution_count": null,
   "metadata": {},
   "outputs": [],
   "source": [
    "# 아래에 코드를 작성해주세요.\n",
    "def my_any(x):\n",
    "    check_box = []\n",
    "    for i in x:\n",
    "        if i != []:\n",
    "            check_box.append('True')\n",
    "            if 'True' in check_box:\n",
    "                return True\n",
    "        else:\n",
    "            check_box.append('False')\n",
    "            return False\n"
   ]
  },
  {
   "cell_type": "code",
   "execution_count": null,
   "metadata": {},
   "outputs": [],
   "source": [
    "# my_any 예제 입력 및 출력\n",
    "print(my_any([1, 2, 5, '6']))\n",
    "print(my_any([[], 2, 5, '6']))\n",
    "print(my_any([0]))"
   ]
  },
  {
   "cell_type": "markdown",
   "metadata": {},
   "source": [
    "# 연습문제\n",
    "\n",
    "container 활용 및 함수 관련 문제\n",
    "(**Comprehension 및 iterable 관련 함수들을 최대한 활용해보세요.**)"
   ]
  },
  {
   "cell_type": "markdown",
   "metadata": {},
   "source": [
    "https://ko.khanacademy.org/math/pre-algebra/pre-algebra-factors-multiples/pre-algebra-prime-numbers/a/prime-composite-numbers"
   ]
  },
  {
   "cell_type": "markdown",
   "metadata": {},
   "source": [
    "## 소수 찾기\n",
    "\n",
    "> 조건, 반복문을 응용하여 numbers 리스트의 요소들이 소수인지 아닌지 판단하는 코드를 작성하라.\n",
    "\n",
    "```\n",
    "26 는 소수가 아닙니다. 2 는 26 의 인수입니다.\n",
    "39 는 소수가 아닙니다. 3 는 39 의 인수입니다.\n",
    "51 는 소수가 아닙니다. 3 는 51 의 인수입니다.\n",
    "53 는 소수입니다.\n",
    "57 는 소수가 아닙니다. 3 는 57 의 인수입니다.\n",
    "79 는 소수입니다.\n",
    "85 는 소수가 아닙니다. 5 는 85 의 인수입니다.\n",
    "```"
   ]
  },
  {
   "cell_type": "code",
   "execution_count": null,
   "metadata": {},
   "outputs": [],
   "source": [
    "numbers = [26, 39, 51, 53, 57, 79, 85]\n",
    "# 아래에 코드를 작성하세요\n",
    "# 소수: 약수가 1과 자기자신인 수\n",
    "\n",
    "\n",
    "for number in numbers:\n",
    "    if number%2 == 0:\n",
    "        print(f'{number} 는 소수가 아닙니다. 2 는 {number} 의 인수입니다.')\n",
    "    elif number%3 == 0:\n",
    "        print(f'{number} 는 소수가 아닙니다. 3 는 {number} 의 인수입니다.')\n",
    "    elif number%5 == 0:\n",
    "        print(f'{number} 는 소수가 아닙니다. 5 는 {number} 의 인수입니다.')\n",
    "#     elif number%7 == 0:\n",
    "#         number\n",
    "    else:\n",
    "        print(f'{number} 는 소수입니다.')"
   ]
  },
  {
   "cell_type": "markdown",
   "metadata": {},
   "source": [
    "1부터 n-1로 나눠지는지 확인하는 방법이 가장 간단하다\n",
    "2로만 안나눠떨어지면 된다"
   ]
  },
  {
   "cell_type": "code",
   "execution_count": 1,
   "metadata": {},
   "outputs": [
    {
     "name": "stdout",
     "output_type": "stream",
     "text": [
      "26 는 소수가 아닙니다. 2 는 26 의 인수입니다.\n",
      "39 는 소수가 아닙니다. 3 는 39 의 인수입니다.\n",
      "51 는 소수가 아닙니다. 3 는 51 의 인수입니다.\n",
      "53 는 소수입니다.\n",
      "57 는 소수가 아닙니다. 3 는 57 의 인수입니다.\n",
      "79 는 소수입니다.\n",
      "85 는 소수가 아닙니다. 5 는 85 의 인수입니다.\n"
     ]
    }
   ],
   "source": [
    "def min_insu(num):\n",
    "    for i in range(2, num // 2):\n",
    "        if not num % i: # 모든 수들 대해서 나눠떨어지지않으면\n",
    "            return i #가장작은 인수를 준다 ## 빠르게 리턴값을 찾는다\n",
    "        \n",
    "        \n",
    "        \n",
    "numbers = [26, 39, 51, 53, 57, 79, 85]\n",
    "\n",
    "board = [False, False, True]+[True]*(max(numbers) - 2) #보드를 먼저 만들어서 참조용으로 하는게 시간이 덜걸린다.\n",
    "        # 0, 1, 2\n",
    "for i in range(2, len(board)):\n",
    "    if board[i]: # 소수인지 아닌지 판단, 소수라면 냅두고\n",
    "        for l in range(2 * i, len(board), i): # 앞으로 있을 배수들을 소수가 아닌것으로 판단, 앞으로 2의 배수들을 소수가 아니라고 판단/ i를 건너뛰면서\n",
    "            board[l] = False # 2의 배수는 모두 False가 된다.\n",
    "\n",
    "# 아래에 코드를 작성하세요\n",
    "for number in numbers:\n",
    "    if board[number]:\n",
    "        print(f'{number} 는 소수입니다.')\n",
    "    else:\n",
    "        print(f'{number} 는 소수가 아닙니다. {min_insu(number)} 는 {number} 의 인수입니다.') #가장 작은 인수를 찾는 함수"
   ]
  },
  {
   "cell_type": "markdown",
   "metadata": {},
   "source": [
    "#### 아리스토텔레스의 체\n",
    "\n",
    "1-10000 의 소수를 찾는다\n",
    "[] 리스트를 만든다\n",
    "\n",
    "board = [False, False, True]+[True]*(max(numbers) - 2)\n",
    "\n",
    "각 인덱스의 값이 소수인지 아닌지 판단해주는 리스트를 만든다\n",
    "\n",
    "앞으로 있는 모든 숫자들은 소수라고 생각하고 기본값을 넣는다.\n",
    "그러면 1-1000까지 모든 인덱스가 생성된다"
   ]
  },
  {
   "cell_type": "markdown",
   "metadata": {},
   "source": [
    "## 최대공약수, 최소공배수 구하기\n",
    "\n",
    "> 두 수를 입력받아 두 수의 최대공약수와 최소공배수를 반환하는 함수, gcdlcm을 완성해 보세요.\n",
    "\n",
    "> 배열의 맨 앞에 최대공약수, 그다음 최소공배수를 넣어 반환하면 됩니다.\n",
    "\n",
    "> 예를 들어 두 수 3, 12의 최대공약수는 3, 최소공배수는 12이므로 gcdlcm(3, 12)는 [3, 12]를 반환해야 합니다.\n",
    "\n",
    "예시)\n",
    "\n",
    "```python\n",
    "gcdlcm(3, 12) #=> [3, 12]\n",
    "gcdlcm(1071, 1029) #=> [21, 52479]\n",
    "```"
   ]
  },
  {
   "cell_type": "code",
   "execution_count": 21,
   "metadata": {},
   "outputs": [],
   "source": [
    "# 여기에 코드를 작성하세요.\n",
    "'''\n",
    "최대공약수\n",
    "최소공배수\n",
    "'''\n",
    "\n",
    "\n",
    "'''\n",
    "유클리드 호제법\n",
    "'''\n",
    "\n",
    "def gcdlcm(x, y):\n",
    "    i_list = []\n",
    "    j_list = []\n",
    "    for i in range(1, x+1):\n",
    "        if x%i == 0:\n",
    "            i_list.append(i)\n",
    "            \n",
    "    for j in range(1, y+1):\n",
    "        if y%j == 0:\n",
    "            if j in i_list:\n",
    "                j_list.append(j)\n",
    "    \n",
    "    print(j_list)\n",
    "    X = max(j_list)\n",
    "    Y = (x * y) / X\n",
    "    \n",
    "    return X, Y"
   ]
  },
  {
   "cell_type": "code",
   "execution_count": 22,
   "metadata": {},
   "outputs": [
    {
     "name": "stdout",
     "output_type": "stream",
     "text": [
      "[1, 3]\n",
      "(3, 12.0)\n",
      "[1, 3, 7, 21]\n",
      "(21, 52479.0)\n"
     ]
    }
   ],
   "source": [
    "print(gcdlcm(3, 12))\n",
    "print(gcdlcm(1071, 1029))"
   ]
  },
  {
   "cell_type": "markdown",
   "metadata": {},
   "source": [
    "list로 소수를 구해서 \n",
    "\n",
    "set으로 하는 함수\n",
    "\n",
    "두가지 딕셔너리를 만들어서\n",
    "\n",
    "같은 키에서 키값이 더 큰걸로 append\n",
    "\n",
    "합집합 -> 최소공배수\n",
    "\n",
    "교집합 -> 최대공배수"
   ]
  },
  {
   "cell_type": "markdown",
   "metadata": {},
   "source": [
    "## 과일 개수 골라내기\n",
    "\n",
    "> 장바구니에 아래와 같은 과일이 들어있고 과일 판별 리스트가 있습니다. 현재 장바구니에는 과일이 몇 개이고 과일이 아닌 것은 몇 개인지 출력 하시오.\n",
    "\n",
    "출력예시) 과일은 23개이고, 11개는 과일이 아닙니다."
   ]
  },
  {
   "cell_type": "code",
   "execution_count": 3,
   "metadata": {},
   "outputs": [
    {
     "name": "stdout",
     "output_type": "stream",
     "text": [
      "과일은23개이고, 11는 과일이 아닙니다.\n"
     ]
    }
   ],
   "source": [
    "basket_items = {'apples': 4, 'oranges': 19, 'kites': 3, 'sandwiches': 8}\n",
    "\n",
    "fruits = ['apples', 'oranges', 'pears', 'peaches', 'grapes', 'bananas']\n",
    "\n",
    "# 아래에 코드를 작성하세요\n",
    "\n",
    "fruits_dicts = {'fruits': 0, 'not': 0}\n",
    "\n",
    "for fruit, count in basket_items.items():\n",
    "    if fruit in fruits or fruit in fruits:\n",
    "        fruits_dicts['fruits'] += count\n",
    "    else:\n",
    "        fruits_dicts['not'] += count\n",
    "\n",
    "print('과일은{}개이고, {}는 과일이 아닙니다.'.format(fruits_dicts['fruits'], fruits_dicts['not'] ))"
   ]
  }
 ],
 "metadata": {
  "kernelspec": {
   "display_name": "Python 3",
   "language": "python",
   "name": "python3"
  },
  "language_info": {
   "codemirror_mode": {
    "name": "ipython",
    "version": 3
   },
   "file_extension": ".py",
   "mimetype": "text/x-python",
   "name": "python",
   "nbconvert_exporter": "python",
   "pygments_lexer": "ipython3",
   "version": "3.7.3"
  },
  "latex_envs": {
   "LaTeX_envs_menu_present": true,
   "autoclose": false,
   "autocomplete": true,
   "bibliofile": "biblio.bib",
   "cite_by": "apalike",
   "current_citInitial": 1,
   "eqLabelWithNumbers": true,
   "eqNumInitial": 1,
   "hotkeys": {
    "equation": "Ctrl-E",
    "itemize": "Ctrl-I"
   },
   "labels_anchors": false,
   "latex_user_defs": false,
   "report_style_numbering": false,
   "user_envs_cfg": false
  },
  "toc": {
   "base_numbering": 1,
   "nav_menu": {},
   "number_sections": true,
   "sideBar": true,
   "skip_h1_title": false,
   "title_cell": "Table of Contents",
   "title_sidebar": "Contents",
   "toc_cell": false,
   "toc_position": {},
   "toc_section_display": true,
   "toc_window_display": false
  }
 },
 "nbformat": 4,
 "nbformat_minor": 2
}
