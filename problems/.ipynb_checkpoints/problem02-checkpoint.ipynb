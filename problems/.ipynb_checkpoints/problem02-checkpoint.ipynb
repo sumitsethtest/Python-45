{
 "cells": [
  {
   "cell_type": "markdown",
   "metadata": {},
   "source": [
    "# 모든코인 상승장? 하락장?\n",
    "> 최고가와 최저가의 차이를 변동폭으로 정의할 때 (시가 + 변동폭)이 최고가 보다 높을 경우 \"상승장\", 그렇지 않은 경우 \"하락장\" 문자열을 출력하라.\n",
    "\n",
    "\n",
    "|Key Name|Description|\n",
    "|------|---|\n",
    "|opeing_price|최근 24시간 내 시작 거래금액|\n",
    "|closing_price|최근 24시간 내 마지막 거래금액|\n",
    "|min_price|최근 24시간 내 최저 거래금액|\n",
    "|max_price|최근 24시간 내 최고 거래금액|"
   ]
  },
  {
   "cell_type": "code",
   "execution_count": 35,
   "metadata": {},
   "outputs": [
    {
     "name": "stdout",
     "output_type": "stream",
     "text": [
      "{'BTC': {'opening_price': '12240000', 'closing_price': '11387000', 'min_price': '11350000', 'max_price': '12250000', 'average_price': '11844416.257', 'units_traded': '7021.92038993', 'volume_1day': '7021.92038993', 'volume_7day': '65399.41336498', 'buy_price': '11379000', 'sell_price': '11385000', '24H_fluctate': '-853000', '24H_fluctate_rate': '-6.96'}, 'ETH': {'opening_price': '258900', 'closing_price': '241600', 'min_price': '239500', 'max_price': '260900', 'average_price': '250808.8136', 'units_traded': '68573.01785779', 'volume_1day': '68573.01785779', 'volume_7day': '474013.485962805017367467', 'buy_price': '241500', 'sell_price': '241700', '24H_fluctate': '-17300', '24H_fluctate_rate': '-6.68'}, 'DASH': {'opening_price': '162400', 'closing_price': '154200', 'min_price': '146000', 'max_price': '163600', 'average_price': '155696.275', 'units_traded': '3696089.40471216', 'volume_1day': '3696089.40471216', 'volume_7day': '20651091.04735176', 'buy_price': '154000', 'sell_price': '154200', '24H_fluctate': '-8200', '24H_fluctate_rate': '-5.04'}, 'LTC': {'opening_price': '112300', 'closing_price': '104900', 'min_price': '103500', 'max_price': '112400', 'average_price': '107921.258', 'units_traded': '20145.71811079', 'volume_1day': '20145.71811079', 'volume_7day': '260539.72746571', 'buy_price': '104600', 'sell_price': '104900', '24H_fluctate': '-7400', '24H_fluctate_rate': '-6.58'}, 'ETC': {'opening_price': '7470', 'closing_price': '6985', 'min_price': '6950', 'max_price': '7515', 'average_price': '7210.449', 'units_traded': '68026.24914534', 'volume_1day': '68026.24914534', 'volume_7day': '705404.438681779877722823', 'buy_price': '6955', 'sell_price': '6980', '24H_fluctate': '-485', '24H_fluctate_rate': '-6.49'}, 'XRP': {'opening_price': '380', 'closing_price': '362', 'min_price': '361', 'max_price': '381', 'average_price': '370.2165', 'units_traded': '47281772.59699176', 'volume_1day': '47281772.59699176', 'volume_7day': '418726713.2087087', 'buy_price': '362', 'sell_price': '363', '24H_fluctate': '-18', '24H_fluctate_rate': '-4.73'}, 'BCH': {'opening_price': '371000', 'closing_price': '337600', 'min_price': '335000', 'max_price': '373200', 'average_price': '355503.0831', 'units_traded': '27686.84087944', 'volume_1day': '27686.84087944', 'volume_7day': '224849.8963332', 'buy_price': '337200', 'sell_price': '337800', '24H_fluctate': '-33400', '24H_fluctate_rate': '-9.00'}, 'XMR': {'opening_price': '97550', 'closing_price': '94050', 'min_price': '91500', 'max_price': '98700', 'average_price': '95786.8821', 'units_traded': '1466659.34121', 'volume_1day': '1466659.34121', 'volume_7day': '11728213.509250963974', 'buy_price': '94050', 'sell_price': '94550', '24H_fluctate': '-3500', '24H_fluctate_rate': '-3.58'}, 'ZEC': {'opening_price': '96000', 'closing_price': '90000', 'min_price': '89000', 'max_price': '97300', 'average_price': '93181.5126', 'units_traded': '1309.29661705', 'volume_1day': '1309.29661705', 'volume_7day': '10340.06426614', 'buy_price': '89000', 'sell_price': '89950', '24H_fluctate': '-6000', '24H_fluctate_rate': '-6.25'}, 'QTUM': {'opening_price': '3755', 'closing_price': '3433', 'min_price': '3426', 'max_price': '3755', 'average_price': '3589.5808', 'units_traded': '293702.19505875', 'volume_1day': '293702.19505875', 'volume_7day': '2523601.22720462', 'buy_price': '3433', 'sell_price': '3436', '24H_fluctate': '-322', '24H_fluctate_rate': '-8.57'}, 'BTG': {'opening_price': '28260', 'closing_price': '25200', 'min_price': '25000', 'max_price': '28580', 'average_price': '26489.2163', 'units_traded': '36174.49639003', 'volume_1day': '36174.49639003', 'volume_7day': '132884.40086385', 'buy_price': '25030', 'sell_price': '25180', '24H_fluctate': '-3060', '24H_fluctate_rate': '-10.82'}, 'EOS': {'opening_price': '4872', 'closing_price': '4790', 'min_price': '4737', 'max_price': '5100', 'average_price': '4890.5651', 'units_traded': '2602544.05306731', 'volume_1day': '2602544.05306731', 'volume_7day': '18820593.21391426', 'buy_price': '4788', 'sell_price': '4798', '24H_fluctate': '-82', '24H_fluctate_rate': '-1.68'}, 'ICX': {'opening_price': '346', 'closing_price': '310', 'min_price': '310', 'max_price': '349', 'average_price': '328.5601', 'units_traded': '241952.45329689', 'volume_1day': '241952.45329689', 'volume_7day': '1288542.987299625241935992', 'buy_price': '310', 'sell_price': '323', '24H_fluctate': '-36', '24H_fluctate_rate': '-10.40'}, 'VET': {'opening_price': '7.85', 'closing_price': '7.43', 'min_price': '7.41', 'max_price': '7.99', 'average_price': '7.6321', 'units_traded': '18794959.74276124', 'volume_1day': '18794959.74276124', 'volume_7day': '135432926.231635834494071003', 'buy_price': '7.41', 'sell_price': '7.43', '24H_fluctate': '-0.42', '24H_fluctate_rate': '-5.35'}, 'TRX': {'opening_price': '30.5', 'closing_price': '26.9', 'min_price': '26', 'max_price': '30.6', 'average_price': '28.1819', 'units_traded': '311925480.61806256', 'volume_1day': '311925480.61806256', 'volume_7day': '800610608.72839272', 'buy_price': '26.8', 'sell_price': '26.9', '24H_fluctate': '-3.6', '24H_fluctate_rate': '-11.80'}, 'ELF': {'opening_price': '163', 'closing_price': '150', 'min_price': '147', 'max_price': '165', 'average_price': '156.5175', 'units_traded': '894930.19198481', 'volume_1day': '894930.19198481', 'volume_7day': '12081232.311539596591481436', 'buy_price': '148', 'sell_price': '150', '24H_fluctate': '-13', '24H_fluctate_rate': '-7.97'}, 'MITH': {'opening_price': '45.3', 'closing_price': '43.9', 'min_price': '43', 'max_price': '46.3', 'average_price': '44.4621', 'units_traded': '1685551.37466902', 'volume_1day': '1685551.37466902', 'volume_7day': '23718762.698995517103275901', 'buy_price': '43', 'sell_price': '43.7', '24H_fluctate': '-1.4', '24H_fluctate_rate': '-3.09'}, 'MCO': {'opening_price': '5370', 'closing_price': '5920', 'min_price': '5040', 'max_price': '9900', 'average_price': '6791.8646', 'units_traded': '839275.59335645', 'volume_1day': '839275.59335645', 'volume_7day': '988016.55701738', 'buy_price': '5920', 'sell_price': '5940', '24H_fluctate': '550', '24H_fluctate_rate': '10.24'}, 'OMG': {'opening_price': '1969', 'closing_price': '1787', 'min_price': '1778', 'max_price': '1969', 'average_price': '1865.3882', 'units_traded': '360309.77457848', 'volume_1day': '360309.77457848', 'volume_7day': '2626590.382661022560726457', 'buy_price': '1786', 'sell_price': '1787', '24H_fluctate': '-182', '24H_fluctate_rate': '-9.24'}, 'KNC': {'opening_price': '229', 'closing_price': '204', 'min_price': '202', 'max_price': '234', 'average_price': '218.9357', 'units_traded': '606518.86168995', 'volume_1day': '606518.86168995', 'volume_7day': '5792736.933074986252557371', 'buy_price': '204', 'sell_price': '209', '24H_fluctate': '-25', '24H_fluctate_rate': '-10.91'}, 'GNT': {'opening_price': '88.8', 'closing_price': '75', 'min_price': '75', 'max_price': '88.9', 'average_price': '81.5125', 'units_traded': '1233907.36845308', 'volume_1day': '1233907.36845308', 'volume_7day': '30170559.06990431446464288', 'buy_price': '75.1', 'sell_price': '78.5', '24H_fluctate': '-13.8', '24H_fluctate_rate': '-15.54'}, 'ZIL': {'opening_price': '17.2', 'closing_price': '16', 'min_price': '15.8', 'max_price': '17.5', 'average_price': '16.7163', 'units_traded': '5609968.70661096', 'volume_1day': '5609968.70661096', 'volume_7day': '49705888.692080032834', 'buy_price': '16', 'sell_price': '16.1', '24H_fluctate': '-1.2', '24H_fluctate_rate': '-6.97'}, 'ETHOS': {'opening_price': '161', 'closing_price': '144', 'min_price': '139', 'max_price': '162', 'average_price': '151.9822', 'units_traded': '3953033.6393', 'volume_1day': '3953033.6393', 'volume_7day': '29802719.34980589', 'buy_price': '143', 'sell_price': '144', '24H_fluctate': '-17', '24H_fluctate_rate': '-10.55'}, 'PAY': {'opening_price': '273', 'closing_price': '255', 'min_price': '241', 'max_price': '318', 'average_price': '281.1887', 'units_traded': '1616146.33352692', 'volume_1day': '1616146.33352692', 'volume_7day': '5227391.698830494351135392', 'buy_price': '254', 'sell_price': '255', '24H_fluctate': '-18', '24H_fluctate_rate': '-6.59'}, 'WAX': {'opening_price': '75.8', 'closing_price': '68.8', 'min_price': '68.5', 'max_price': '77', 'average_price': '73.2641', 'units_traded': '11466461.23517637', 'volume_1day': '11466461.23517637', 'volume_7day': '192303543.2598058', 'buy_price': '68.8', 'sell_price': '69.1', '24H_fluctate': '-7', '24H_fluctate_rate': '-9.23'}, 'POWR': {'opening_price': '96.6', 'closing_price': '88.8', 'min_price': '87.1', 'max_price': '97', 'average_price': '92.1802', 'units_traded': '1870687.69604407', 'volume_1day': '1870687.69604407', 'volume_7day': '25851054.51567433', 'buy_price': '87.6', 'sell_price': '88.6', '24H_fluctate': '-7.8', '24H_fluctate_rate': '-8.07'}, 'LRC': {'opening_price': '80.6', 'closing_price': '75.2', 'min_price': '72.3', 'max_price': '80.6', 'average_price': '74.8809', 'units_traded': '875728.9806', 'volume_1day': '875728.9806', 'volume_7day': '14412723.327937998816284921', 'buy_price': '72.7', 'sell_price': '74.4', '24H_fluctate': '-5.4', '24H_fluctate_rate': '-6.69'}, 'GTO': {'opening_price': '31.5', 'closing_price': '28.5', 'min_price': '27.9', 'max_price': '31.7', 'average_price': '29.8788', 'units_traded': '4318058.25875637', 'volume_1day': '4318058.25875637', 'volume_7day': '74427176.43511107', 'buy_price': '28.5', 'sell_price': '28.9', '24H_fluctate': '-3', '24H_fluctate_rate': '-9.52'}, 'STEEM': {'opening_price': '380', 'closing_price': '347', 'min_price': '347', 'max_price': '380', 'average_price': '365.8071', 'units_traded': '472551.722', 'volume_1day': '472551.722', 'volume_7day': '2419964.50560173', 'buy_price': '347', 'sell_price': '350', '24H_fluctate': '-33', '24H_fluctate_rate': '-8.68'}, 'STRAT': {'opening_price': '1343', 'closing_price': '1248', 'min_price': '1216', 'max_price': '1343', 'average_price': '1275.1165', 'units_traded': '87642.91853419', 'volume_1day': '87642.91853419', 'volume_7day': '830330.37359791', 'buy_price': '1234', 'sell_price': '1239', '24H_fluctate': '-95', '24H_fluctate_rate': '-7.07'}, 'ZRX': {'opening_price': '284', 'closing_price': '257', 'min_price': '256', 'max_price': '284', 'average_price': '269.1237', 'units_traded': '389418.95154667', 'volume_1day': '389418.95154667', 'volume_7day': '3639178.039211207074080796', 'buy_price': '256', 'sell_price': '258', '24H_fluctate': '-27', '24H_fluctate_rate': '-9.50'}, 'REP': {'opening_price': '18170', 'closing_price': '17830', 'min_price': '16940', 'max_price': '18500', 'average_price': '17774.4758', 'units_traded': '18054.78410511', 'volume_1day': '18054.78410511', 'volume_7day': '121597.252592670890106114', 'buy_price': '17760', 'sell_price': '18060', '24H_fluctate': '-340', '24H_fluctate_rate': '-1.87'}, 'AE': {'opening_price': '507', 'closing_price': '476', 'min_price': '458', 'max_price': '508', 'average_price': '484.9034', 'units_traded': '92286.9514672', 'volume_1day': '92286.9514672', 'volume_7day': '1832520.355850427239208737', 'buy_price': '458', 'sell_price': '476', '24H_fluctate': '-31', '24H_fluctate_rate': '-6.11'}, 'XEM': {'opening_price': '100', 'closing_price': '93.9', 'min_price': '93.8', 'max_price': '101', 'average_price': '97.6072', 'units_traded': '681979.13402005', 'volume_1day': '681979.13402005', 'volume_7day': '15515235.54662518', 'buy_price': '93.6', 'sell_price': '96', '24H_fluctate': '-6.1', '24H_fluctate_rate': '-6.10'}, 'SNT': {'opening_price': '26', 'closing_price': '23.8', 'min_price': '23.6', 'max_price': '26.3', 'average_price': '24.7699', 'units_traded': '11916023.69085598', 'volume_1day': '11916023.69085598', 'volume_7day': '78583859.974774703647740262', 'buy_price': '23.7', 'sell_price': '23.9', '24H_fluctate': '-2.2', '24H_fluctate_rate': '-8.46'}, 'ADA': {'opening_price': '91', 'closing_price': '85', 'min_price': '85', 'max_price': '91.1', 'average_price': '88.3519', 'units_traded': '2706159.33399942', 'volume_1day': '2706159.33399942', 'volume_7day': '49178492.81007925', 'buy_price': '85', 'sell_price': '85.4', '24H_fluctate': '-6', '24H_fluctate_rate': '-6.59'}, 'PPT': {'opening_price': '2967', 'closing_price': '2750', 'min_price': '2750', 'max_price': '3170', 'average_price': '2926.8278', 'units_traded': '136358.84502778', 'volume_1day': '136358.84502778', 'volume_7day': '824129.51946855', 'buy_price': '2742', 'sell_price': '2750', '24H_fluctate': '-217', '24H_fluctate_rate': '-7.31'}, 'CTXC': {'opening_price': '405', 'closing_price': '376', 'min_price': '369', 'max_price': '409', 'average_price': '386.4187', 'units_traded': '444446.45803532', 'volume_1day': '444446.45803532', 'volume_7day': '5305229.365183306807633866', 'buy_price': '371', 'sell_price': '375', '24H_fluctate': '-29', '24H_fluctate_rate': '-7.16'}, 'CMT': {'opening_price': '57.2', 'closing_price': '50.1', 'min_price': '47.6', 'max_price': '57.6', 'average_price': '52.785', 'units_traded': '9331640.95463329', 'volume_1day': '9331640.95463329', 'volume_7day': '99649192.804001067182419723', 'buy_price': '49.7', 'sell_price': '49.8', '24H_fluctate': '-7.1', '24H_fluctate_rate': '-12.41'}, 'THETA': {'opening_price': '136', 'closing_price': '122', 'min_price': '118', 'max_price': '139', 'average_price': '129.7838', 'units_traded': '1919761.08381176', 'volume_1day': '1919761.08381176', 'volume_7day': '21267743.59474454314405329', 'buy_price': '123', 'sell_price': '124', '24H_fluctate': '-14', '24H_fluctate_rate': '-10.29'}, 'WTC': {'opening_price': '2314', 'closing_price': '2080', 'min_price': '2023', 'max_price': '2579', 'average_price': '2248.2474', 'units_traded': '213442.62489405', 'volume_1day': '213442.62489405', 'volume_7day': '816168.236344792656393383', 'buy_price': '2080', 'sell_price': '2099', '24H_fluctate': '-234', '24H_fluctate_rate': '-10.11'}, 'ITC': {'opening_price': '350', 'closing_price': '301', 'min_price': '299', 'max_price': '352', 'average_price': '328.3709', 'units_traded': '999765.46720519', 'volume_1day': '999765.46720519', 'volume_7day': '11178222.287784349846312334', 'buy_price': '302', 'sell_price': '311', '24H_fluctate': '-49', '24H_fluctate_rate': '-14.00'}, 'TRUE': {'opening_price': '520', 'closing_price': '464', 'min_price': '455', 'max_price': '523', 'average_price': '486.1805', 'units_traded': '281827.94612713', 'volume_1day': '281827.94612713', 'volume_7day': '2225621.232982676079122136', 'buy_price': '457', 'sell_price': '472', '24H_fluctate': '-56', '24H_fluctate_rate': '-10.76'}, 'ABT': {'opening_price': '341', 'closing_price': '294', 'min_price': '293', 'max_price': '343', 'average_price': '315.6312', 'units_traded': '742674.52062947', 'volume_1day': '742674.52062947', 'volume_7day': '13201414.508023594682407783', 'buy_price': '294', 'sell_price': '300', '24H_fluctate': '-47', '24H_fluctate_rate': '-13.78'}, 'RNT': {'opening_price': '41.1', 'closing_price': '37.8', 'min_price': '36.7', 'max_price': '41.4', 'average_price': '38.8734', 'units_traded': '4784653.89244364', 'volume_1day': '4784653.89244364', 'volume_7day': '22664870.168859125987646931', 'buy_price': '37.5', 'sell_price': '37.8', '24H_fluctate': '-3.3', '24H_fluctate_rate': '-8.02'}, 'PLY': {'opening_price': '12.5', 'closing_price': '11.2', 'min_price': '11.1', 'max_price': '12.6', 'average_price': '11.9263', 'units_traded': '31933515.32300149', 'volume_1day': '31933515.32300149', 'volume_7day': '248931106.736297987', 'buy_price': '11.2', 'sell_price': '11.4', '24H_fluctate': '-1.3', '24H_fluctate_rate': '-10.40'}, 'WAVES': {'opening_price': '2272', 'closing_price': '2040', 'min_price': '2006', 'max_price': '2272', 'average_price': '2158.2468', 'units_traded': '81443.90903369', 'volume_1day': '81443.90903369', 'volume_7day': '609744.39553468', 'buy_price': '2006', 'sell_price': '2092', '24H_fluctate': '-232', '24H_fluctate_rate': '-10.21'}, 'LINK': {'opening_price': '4064', 'closing_price': '4001', 'min_price': '3925', 'max_price': '4428', 'average_price': '4125.43', 'units_traded': '357715.029035', 'volume_1day': '357715.029035', 'volume_7day': '1994490.504856342702900348', 'buy_price': '4000', 'sell_price': '4001', '24H_fluctate': '-63', '24H_fluctate_rate': '-1.55'}, 'ENJ': {'opening_price': '109', 'closing_price': '99.1', 'min_price': '98.7', 'max_price': '110', 'average_price': '102.6317', 'units_traded': '6011703.21905406', 'volume_1day': '6011703.21905406', 'volume_7day': '64007816.327073259029670263', 'buy_price': '99.1', 'sell_price': '99.3', '24H_fluctate': '-9.9', '24H_fluctate_rate': '-9.08'}, 'PST': {'opening_price': '157', 'closing_price': '142', 'min_price': '140', 'max_price': '159', 'average_price': '149.3047', 'units_traded': '4248128.08297796', 'volume_1day': '4248128.08297796', 'volume_7day': '27203476.57466148915030506', 'buy_price': '141', 'sell_price': '142', '24H_fluctate': '-15', '24H_fluctate_rate': '-9.55'}, 'SALT': {'opening_price': '212', 'closing_price': '179', 'min_price': '176', 'max_price': '220', 'average_price': '201.7229', 'units_traded': '6123952.94322069', 'volume_1day': '6123952.94322069', 'volume_7day': '61521010.14076887', 'buy_price': '179', 'sell_price': '182', '24H_fluctate': '-33', '24H_fluctate_rate': '-15.56'}, 'RDN': {'opening_price': '917', 'closing_price': '831', 'min_price': '808', 'max_price': '917', 'average_price': '867.9389', 'units_traded': '104946.67101807', 'volume_1day': '104946.67101807', 'volume_7day': '1117372.934713803591947807', 'buy_price': '831', 'sell_price': '832', '24H_fluctate': '-86', '24H_fluctate_rate': '-9.37'}, 'LOOM': {'opening_price': '79', 'closing_price': '74.2', 'min_price': '74.2', 'max_price': '79.7', 'average_price': '76.8721', 'units_traded': '391456.81142647', 'volume_1day': '391456.81142647', 'volume_7day': '11530232.607627198512205382', 'buy_price': '74.2', 'sell_price': '74.4', '24H_fluctate': '-4.8', '24H_fluctate_rate': '-6.07'}, 'PIVX': {'opening_price': '1700', 'closing_price': '1656', 'min_price': '1626', 'max_price': '1850', 'average_price': '1725.3047', 'units_traded': '41247.68179109', 'volume_1day': '41247.68179109', 'volume_7day': '453416.45463914', 'buy_price': '1656', 'sell_price': '1658', '24H_fluctate': '-44', '24H_fluctate_rate': '-2.58'}, 'INS': {'opening_price': '407', 'closing_price': '388', 'min_price': '382', 'max_price': '410', 'average_price': '394.1534', 'units_traded': '132790.76623808', 'volume_1day': '132790.76623808', 'volume_7day': '1620290.1711047629', 'buy_price': '382', 'sell_price': '386', '24H_fluctate': '-19', '24H_fluctate_rate': '-4.66'}, 'BCD': {'opening_price': '2083', 'closing_price': '1907', 'min_price': '1877', 'max_price': '2083', 'average_price': '1978.9854', 'units_traded': '117936.28077828', 'volume_1day': '117936.28077828', 'volume_7day': '1124256.14837635', 'buy_price': '1878', 'sell_price': '1907', '24H_fluctate': '-176', '24H_fluctate_rate': '-8.44'}, 'BZNT': {'opening_price': '21.2', 'closing_price': '20.1', 'min_price': '20', 'max_price': '21.6', 'average_price': '20.58', 'units_traded': '7870371.1261437', 'volume_1day': '7870371.1261437', 'volume_7day': '51206949.290160062520372565', 'buy_price': '20', 'sell_price': '20.1', '24H_fluctate': '-1.1', '24H_fluctate_rate': '-5.18'}, 'XLM': {'opening_price': '113', 'closing_price': '107', 'min_price': '104', 'max_price': '114', 'average_price': '110.0165', 'units_traded': '1588458.16053265', 'volume_1day': '1588458.16053265', 'volume_7day': '19840818.69207216', 'buy_price': '105', 'sell_price': '106', '24H_fluctate': '-6', '24H_fluctate_rate': '-5.30'}, 'OCN': {'opening_price': '3.3', 'closing_price': '2.99', 'min_price': '2.94', 'max_price': '3.42', 'average_price': '3.1685', 'units_traded': '38315954.52239601', 'volume_1day': '38315954.52239601', 'volume_7day': '582406810.490110107761294511', 'buy_price': '2.95', 'sell_price': '2.99', '24H_fluctate': '-0.31', '24H_fluctate_rate': '-9.39'}, 'BSV': {'opening_price': '204600', 'closing_price': '184400', 'min_price': '180600', 'max_price': '209700', 'average_price': '198305.2567', 'units_traded': '56654.83363445', 'volume_1day': '56654.83363445', 'volume_7day': '455279.97230468', 'buy_price': '184300', 'sell_price': '184400', '24H_fluctate': '-20200', '24H_fluctate_rate': '-9.87'}, 'TMTG': {'opening_price': '2.19', 'closing_price': '2.13', 'min_price': '2.1', 'max_price': '2.24', 'average_price': '2.1705', 'units_traded': '49322619.67684197', 'volume_1day': '49322619.67684197', 'volume_7day': '507069493.675101600996288632', 'buy_price': '2.11', 'sell_price': '2.13', '24H_fluctate': '-0.06', '24H_fluctate_rate': '-2.73'}, 'BAT': {'opening_price': '300', 'closing_price': '267', 'min_price': '266', 'max_price': '300', 'average_price': '274.8337', 'units_traded': '965131.47206296', 'volume_1day': '965131.47206296', 'volume_7day': '8845809.340444765842238381', 'buy_price': '265', 'sell_price': '267', '24H_fluctate': '-33', '24H_fluctate_rate': '-11.00'}, 'WET': {'opening_price': '16.6', 'closing_price': '15.4', 'min_price': '15.2', 'max_price': '16.8', 'average_price': '16.1323', 'units_traded': '18229466.14194432', 'volume_1day': '18229466.14194432', 'volume_7day': '218469471.185121431129735094', 'buy_price': '15.4', 'sell_price': '15.6', '24H_fluctate': '-1.2', '24H_fluctate_rate': '-7.22'}, 'XVG': {'opening_price': '15.5', 'closing_price': '14.4', 'min_price': '14.2', 'max_price': '15.7', 'average_price': '14.988', 'units_traded': '4857943.01660256', 'volume_1day': '4857943.01660256', 'volume_7day': '106961277.47055852', 'buy_price': '14.4', 'sell_price': '14.8', '24H_fluctate': '-1.1', '24H_fluctate_rate': '-7.09'}, 'IOST': {'opening_price': '13.3', 'closing_price': '12', 'min_price': '11.3', 'max_price': '13.9', 'average_price': '12.6327', 'units_traded': '27449435.91996846', 'volume_1day': '27449435.91996846', 'volume_7day': '246183912.039881007658670177', 'buy_price': '11.7', 'sell_price': '12', '24H_fluctate': '-1.3', '24H_fluctate_rate': '-9.77'}, 'POLY': {'opening_price': '72', 'closing_price': '62.9', 'min_price': '62.6', 'max_price': '72.3', 'average_price': '67.2767', 'units_traded': '7296033.19881546', 'volume_1day': '7296033.19881546', 'volume_7day': '49314927.26152190629847291', 'buy_price': '62.9', 'sell_price': '63', '24H_fluctate': '-9.1', '24H_fluctate_rate': '-12.63'}, 'HC': {'opening_price': '3630', 'closing_price': '3460', 'min_price': '3419', 'max_price': '3754', 'average_price': '3579.1536', 'units_traded': '99744.51456413', 'volume_1day': '99744.51456413', 'volume_7day': '1314015.71707016', 'buy_price': '3422', 'sell_price': '3469', '24H_fluctate': '-170', '24H_fluctate_rate': '-4.68'}, 'ROM': {'opening_price': '0.05', 'closing_price': '0.04', 'min_price': '0.04', 'max_price': '0.05', 'average_price': '0.0452', 'units_traded': '1576850014.7223', 'volume_1day': '1576850014.7223', 'volume_7day': '8183873977.73698', 'buy_price': '0.04', 'sell_price': '0.05', '24H_fluctate': '-0.01', '24H_fluctate_rate': '-20.00'}, 'AMO': {'opening_price': '0.59', 'closing_price': '0.55', 'min_price': '0.54', 'max_price': '0.59', 'average_price': '0.5662', 'units_traded': '351583283.30132876', 'volume_1day': '351583283.30132876', 'volume_7day': '1916523851.506574305781602196', 'buy_price': '0.54', 'sell_price': '0.55', '24H_fluctate': '-0.04', '24H_fluctate_rate': '-6.77'}, 'ETZ': {'opening_price': '268', 'closing_price': '249', 'min_price': '239', 'max_price': '270', 'average_price': '255.7814', 'units_traded': '796674.48520118', 'volume_1day': '796674.48520118', 'volume_7day': '10318816.124191755166357853', 'buy_price': '245', 'sell_price': '249', '24H_fluctate': '-19', '24H_fluctate_rate': '-7.08'}, 'ARN': {'opening_price': '505', 'closing_price': '470', 'min_price': '453', 'max_price': '507', 'average_price': '480.5555', 'units_traded': '88980.9939', 'volume_1day': '88980.9939', 'volume_7day': '1355657.95923871', 'buy_price': '455', 'sell_price': '470', '24H_fluctate': '-35', '24H_fluctate_rate': '-6.93'}, 'APIS': {'opening_price': '1.74', 'closing_price': '1.53', 'min_price': '1.53', 'max_price': '1.74', 'average_price': '1.6283', 'units_traded': '25735148.43840241', 'volume_1day': '25735148.43840241', 'volume_7day': '263782842.470303502628325065', 'buy_price': '1.54', 'sell_price': '1.62', '24H_fluctate': '-0.21', '24H_fluctate_rate': '-12.06'}, 'MTL': {'opening_price': '1879', 'closing_price': '1784', 'min_price': '1650', 'max_price': '1940', 'average_price': '1853.3123', 'units_traded': '84571.78416698', 'volume_1day': '84571.78416698', 'volume_7day': '1222364.03744952', 'buy_price': '1758', 'sell_price': '1778', '24H_fluctate': '-95', '24H_fluctate_rate': '-5.05'}, 'DACC': {'opening_price': '0.16', 'closing_price': '0.16', 'min_price': '0.15', 'max_price': '0.16', 'average_price': '0.1556', 'units_traded': '552487454.1308', 'volume_1day': '552487454.1308', 'volume_7day': '2470967854.14914707', 'buy_price': '0.15', 'sell_price': '0.16', '24H_fluctate': '0', '24H_fluctate_rate': '0.00'}, 'DAC': {'opening_price': '5.95', 'closing_price': '5.7', 'min_price': '5.58', 'max_price': '5.97', 'average_price': '5.8144', 'units_traded': '26360155.04659133', 'volume_1day': '26360155.04659133', 'volume_7day': '322440421.289723718159479666', 'buy_price': '5.62', 'sell_price': '5.7', '24H_fluctate': '-0.25', '24H_fluctate_rate': '-4.20'}, 'BHP': {'opening_price': '1694', 'closing_price': '1634', 'min_price': '1625', 'max_price': '1706', 'average_price': '1672.3816', 'units_traded': '140893.71348618', 'volume_1day': '140893.71348618', 'volume_7day': '1133105.63105841', 'buy_price': '1631', 'sell_price': '1633', '24H_fluctate': '-60', '24H_fluctate_rate': '-3.54'}, 'BTT': {'opening_price': '1.33', 'closing_price': '1.24', 'min_price': '1.21', 'max_price': '1.36', 'average_price': '1.2862', 'units_traded': '192749527.23837604', 'volume_1day': '192749527.23837604', 'volume_7day': '1982872002.47535581', 'buy_price': '1.24', 'sell_price': '1.25', '24H_fluctate': '-0.09', '24H_fluctate_rate': '-6.76'}, 'HDAC': {'opening_price': '30', 'closing_price': '30', 'min_price': '29.2', 'max_price': '32.5', 'average_price': '30.7049', 'units_traded': '17132184.91845045', 'volume_1day': '17132184.91845045', 'volume_7day': '71572982.75005869', 'buy_price': '29.9', 'sell_price': '30.2', '24H_fluctate': '0', '24H_fluctate_rate': '0.00'}, 'NPXS': {'opening_price': '0.77', 'closing_price': '0.69', 'min_price': '0.67', 'max_price': '0.77', 'average_price': '0.7226', 'units_traded': '682767226.21386777', 'volume_1day': '682767226.21386777', 'volume_7day': '4798235832.951185889836216883', 'buy_price': '0.68', 'sell_price': '0.69', '24H_fluctate': '-0.08', '24H_fluctate_rate': '-10.38'}, 'AUTO': {'opening_price': '1.6', 'closing_price': '1.55', 'min_price': '1.5', 'max_price': '1.62', 'average_price': '1.5663', 'units_traded': '33626970.96481966', 'volume_1day': '33626970.96481966', 'volume_7day': '660280317.109700210823308021', 'buy_price': '1.52', 'sell_price': '1.53', '24H_fluctate': '-0.05', '24H_fluctate_rate': '-3.12'}, 'GXC': {'opening_price': '2029', 'closing_price': '1939', 'min_price': '1885', 'max_price': '2030', 'average_price': '1966.2371', 'units_traded': '52283.96927239', 'volume_1day': '52283.96927239', 'volume_7day': '515207.64159353', 'buy_price': '1925', 'sell_price': '1939', '24H_fluctate': '-90', '24H_fluctate_rate': '-4.43'}, 'ORBS': {'opening_price': '27.6', 'closing_price': '25.8', 'min_price': '25.6', 'max_price': '28.3', 'average_price': '27.1378', 'units_traded': '15405383.18460863', 'volume_1day': '15405383.18460863', 'volume_7day': '81423789.539632403918323517', 'buy_price': '25.9', 'sell_price': '26.9', '24H_fluctate': '-1.8', '24H_fluctate_rate': '-6.52'}, 'VALOR': {'opening_price': '2312', 'closing_price': '2181', 'min_price': '2151', 'max_price': '2679', 'average_price': '2424.1033', 'units_traded': '476722.51313582', 'volume_1day': '476722.51313582', 'volume_7day': '1182971.36621645582399411', 'buy_price': '2171', 'sell_price': '2181', '24H_fluctate': '-131', '24H_fluctate_rate': '-5.66'}, 'CON': {'opening_price': '12.4', 'closing_price': '12', 'min_price': '11.9', 'max_price': '12.5', 'average_price': '12.1986', 'units_traded': '119759223.22499247', 'volume_1day': '119759223.22499247', 'volume_7day': '455821948.256628593891542088', 'buy_price': '11.9', 'sell_price': '12', '24H_fluctate': '-0.4', '24H_fluctate_rate': '-3.22'}, 'ANKR': {'opening_price': '14.6', 'closing_price': '10.2', 'min_price': '9.75', 'max_price': '17', 'average_price': '12.5389', 'units_traded': '761505358.6925867', 'volume_1day': '761505358.6925867', 'volume_7day': '1088277502.066578352733321186', 'buy_price': '10.1', 'sell_price': '10.2', '24H_fluctate': '-4.4', '24H_fluctate_rate': '-30.13'}, 'MIX': {'opening_price': '67.5', 'closing_price': '65.9', 'min_price': '64.4', 'max_price': '67.6', 'average_price': '66.0376', 'units_traded': '1744258.2118', 'volume_1day': '1744258.2118', 'volume_7day': '11068468.274846266676994353', 'buy_price': '65.9', 'sell_price': '66.5', '24H_fluctate': '-1.6', '24H_fluctate_rate': '-2.37'}, 'HYC': {'opening_price': '9.61', 'closing_price': '9.3', 'min_price': '9.05', 'max_price': '9.95', 'average_price': '9.3973', 'units_traded': '166648972.08317215', 'volume_1day': '166648972.08317215', 'volume_7day': '814211337.754056086', 'buy_price': '9.24', 'sell_price': '9.29', '24H_fluctate': '-0.31', '24H_fluctate_rate': '-3.22'}, 'LBA': {'opening_price': '30.8', 'closing_price': '36.2', 'min_price': '29.1', 'max_price': '39.5', 'average_price': '33.5713', 'units_traded': '88675030.29203781', 'volume_1day': '88675030.29203781', 'volume_7day': '223236437.641240268505107393', 'buy_price': '36.3', 'sell_price': '36.7', '24H_fluctate': '5.4', '24H_fluctate_rate': '17.53'}, 'LAMB': {'opening_price': '245', 'closing_price': '214', 'min_price': '214', 'max_price': '245', 'average_price': '232.8826', 'units_traded': '1322770.93660233', 'volume_1day': '1322770.93660233', 'volume_7day': '582095101.490545167981260715', 'buy_price': '213', 'sell_price': '215', '24H_fluctate': '-31', '24H_fluctate_rate': '-12.65'}, 'date': '1563941874711'}\n"
     ]
    }
   ],
   "source": [
    "import requests\n",
    "url = \"https://api.bithumb.com/public/ticker/all\"\n",
    "data = requests.get(url).json()['data']\n",
    "print(data)"
   ]
  },
  {
   "cell_type": "code",
   "execution_count": 63,
   "metadata": {
    "scrolled": false
   },
   "outputs": [
    {
     "name": "stdout",
     "output_type": "stream",
     "text": [
      "BTC 상승장\n",
      "ETH 상승장\n",
      "DASH 상승장\n",
      "LTC 상승장\n",
      "ETC 상승장\n",
      "XRP 상승장\n",
      "BCH 상승장\n",
      "XMR 상승장\n",
      "ZEC 상승장\n",
      "QTUM 상승장\n",
      "BTG 상승장\n",
      "EOS 상승장\n",
      "ICX 상승장\n",
      "VET 상승장\n",
      "TRX 상승장\n",
      "ELF 상승장\n",
      "MITH 상승장\n",
      "MCO 상승장\n",
      "OMG 상승장\n",
      "KNC 상승장\n",
      "GNT 상승장\n",
      "ZIL 상승장\n",
      "ETHOS 상승장\n",
      "PAY 상승장\n",
      "WAX 상승장\n",
      "POWR 상승장\n",
      "LRC 상승장\n",
      "GTO 상승장\n",
      "STEEM 상승장\n",
      "STRAT 상승장\n",
      "ZRX 상승장\n",
      "REP 상승장\n",
      "AE 상승장\n",
      "XEM 상승장\n",
      "SNT 상승장\n",
      "ADA 상승장\n",
      "PPT 상승장\n",
      "CTXC 상승장\n",
      "CMT 상승장\n",
      "THETA 상승장\n",
      "WTC 상승장\n",
      "ITC 상승장\n",
      "TRUE 상승장\n",
      "ABT 상승장\n",
      "RNT 상승장\n",
      "PLY 상승장\n",
      "WAVES 상승장\n",
      "LINK 상승장\n",
      "ENJ 상승장\n",
      "PST 상승장\n",
      "SALT 상승장\n",
      "RDN 상승장\n",
      "LOOM 상승장\n",
      "PIVX 상승장\n",
      "INS 상승장\n",
      "BCD 상승장\n",
      "BZNT 상승장\n",
      "XLM 상승장\n",
      "OCN 상승장\n",
      "BSV 상승장\n",
      "TMTG 상승장\n",
      "BAT 상승장\n",
      "WET 상승장\n",
      "XVG 상승장\n",
      "IOST 상승장\n",
      "POLY 상승장\n",
      "HC 상승장\n",
      "ROM 상승장\n",
      "AMO 상승장\n",
      "ETZ 상승장\n",
      "ARN 상승장\n",
      "APIS 상승장\n",
      "MTL 상승장\n",
      "DACC 상승장\n",
      "DAC 상승장\n",
      "BHP 상승장\n",
      "BTT 상승장\n",
      "HDAC 상승장\n",
      "NPXS 상승장\n",
      "AUTO 상승장\n",
      "GXC 상승장\n",
      "ORBS 상승장\n",
      "VALOR 상승장\n",
      "CON 상승장\n",
      "ANKR 상승장\n",
      "MIX 상승장\n",
      "HYC 상승장\n",
      "LBA 상승장\n",
      "LAMB 상승장\n"
     ]
    }
   ],
   "source": [
    "# 여기에 코드를 작성하세요\n",
    "# 가격 변동폭 계산: 투자하려는 가상화폐의 전일 고가(high)에서 전일 저가(low)를 빼서 가상화폐의 가격 변동폭을 구합니다.\n",
    "\n",
    "\n",
    "'''\n",
    "min_price  최근 24시간 내 최저 거래금액\n",
    "max_price  최근 24시간 내 최고 거래금액\n",
    "\n",
    "fluctuation = max_price - min_price \n",
    "'''\n",
    "\n",
    "for key, value in data.items():\n",
    "    #rint(key, value)\n",
    "    try:\n",
    "        for key2, value2 in value.items():\n",
    "            #print(key2, value2)\n",
    "            if key2 == 'max_price':\n",
    "                max_price = float(value2)\n",
    "                #print(max_price)\n",
    "            if key2 == 'min_price':\n",
    "                min_price = float(value2)\n",
    "                #print(min_price)\n",
    "            if key2 == 'opening_price':\n",
    "                opening_price = float(value2)\n",
    "                #print(opening_price)\n",
    "\n",
    "        fluctuation = max_price - min_price\n",
    "        #print(fluctuation)\n",
    "        difference = fluctuation + opening_price\n",
    "\n",
    "        if difference >= max_price:  # 왜 전부 상승장이야. \n",
    "            print(key, '상승장')\n",
    "        else:\n",
    "            print(key, '하락장')\n",
    "            \n",
    "    except AttributeError as err:\n",
    "        continue\n"
   ]
  },
  {
   "cell_type": "markdown",
   "metadata": {},
   "source": [
    "# UBD\n",
    "> movies는 영화제목이 key로 누적관객수가 value인 딕셔너리이다. \n",
    ">\n",
    "> 자전차왕 엄복동의 누적관객수는 172212명이고 172212명을 1UBD라고 할때 80UBD를 넘지 못하는 영화를 출력하라."
   ]
  },
  {
   "cell_type": "code",
   "execution_count": 51,
   "metadata": {},
   "outputs": [],
   "source": [
    "movies = {\n",
    "    \"7번방의선물\":12811206,\n",
    "    \"괴물\":13019740,\n",
    "    \"국제시장\":14257115,\n",
    "    \"극한직업\":16261018,\n",
    "    \"도둑들\":12983330,\n",
    "    \"명량\":17613682,\n",
    "    \"베테랑\":13414009,\n",
    "    \"신과함께-죄와벌\":14410754,\n",
    "    \"아바타\":13624328,\n",
    "    \"어벤져스:엔드게임\":13901423,\n",
    "}"
   ]
  },
  {
   "cell_type": "code",
   "execution_count": 59,
   "metadata": {},
   "outputs": [
    {
     "name": "stdout",
     "output_type": "stream",
     "text": [
      "80UBD를 넘지 못하는 영화는 ['7번방의선물', '괴물', '도둑들', '베테랑', '아바타']입니다.\n"
     ]
    }
   ],
   "source": [
    "# 여기에 코드를 작성하세요\n",
    "\n",
    "lowerthan80UBD_list = []\n",
    "a = 172212\n",
    "UBD80 = a*80\n",
    "\n",
    "for key, value in movies.items():\n",
    "    #print(f'영화이름: {key}, 누적관객수: {value}')\n",
    "    \n",
    "    if value < UBD80:\n",
    "        lowerthan80UBD_list.append(key)\n",
    "\n",
    "        \n",
    "print('80UBD를 넘지 못하는 영화는 {0}입니다.'.format(lowerthan80UBD_list, step=''))"
   ]
  },
  {
   "cell_type": "code",
   "execution_count": 67,
   "metadata": {},
   "outputs": [
    {
     "data": {
      "text/plain": [
       "['7번방의선물', '괴물', '도둑들', '베테랑', '아바타']"
      ]
     },
     "execution_count": 67,
     "metadata": {},
     "output_type": "execute_result"
    }
   ],
   "source": [
    "ubd = 172212\n",
    "\n",
    "def ubd_filter(movies):\n",
    "    ubds = []\n",
    "    \n",
    "    for key, value in movies.items():\n",
    "        if value / ubd < 80:\n",
    "            ubds.append(key)\n",
    "        \n",
    "    return ubds\n",
    "\n",
    "ubd_filter(movies)"
   ]
  }
 ],
 "metadata": {
  "kernelspec": {
   "display_name": "Python 3",
   "language": "python",
   "name": "python3"
  },
  "language_info": {
   "codemirror_mode": {
    "name": "ipython",
    "version": 3
   },
   "file_extension": ".py",
   "mimetype": "text/x-python",
   "name": "python",
   "nbconvert_exporter": "python",
   "pygments_lexer": "ipython3",
   "version": "3.7.4"
  },
  "toc": {
   "base_numbering": 1,
   "nav_menu": {},
   "number_sections": true,
   "sideBar": true,
   "skip_h1_title": false,
   "title_cell": "Table of Contents",
   "title_sidebar": "Contents",
   "toc_cell": false,
   "toc_position": {},
   "toc_section_display": true,
   "toc_window_display": false
  }
 },
 "nbformat": 4,
 "nbformat_minor": 2
}
