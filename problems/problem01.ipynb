{
 "cells": [
  {
   "cell_type": "markdown",
   "metadata": {},
   "source": [
    "# 상승장? 하락장?\n",
    "\n",
    "> 최고가와 최저가의 차이를 변동폭으로 정의할 때 (시가 + 변동폭)이 최고가 보다 높을 경우 \"상승장\", 그렇지 않은 경우 \"하락장\" 문자열을 출력하라.\n",
    "\n",
    "|Key Name|Description|\n",
    "|------|---|\n",
    "|opeing_price|최근 24시간 내 시작 거래금액|\n",
    "|closing_price|최근 24시간 내 마지막 거래금액|\n",
    "|min_price|최근 24시간 내 최저 거래금액|\n",
    "|max_price|최근 24시간 내 최고 거래금액|"
   ]
  },
  {
   "cell_type": "code",
   "execution_count": 1,
   "metadata": {},
   "outputs": [
    {
     "name": "stdout",
     "output_type": "stream",
     "text": [
      "{'opening_price': '12140000', 'closing_price': '11567000', 'min_price': '11340000', 'max_price': '12180000', 'average_price': '11787156.4085', 'units_traded': '7229.65416398', 'volume_1day': '7229.65416398', 'volume_7day': '64645.50338351', 'buy_price': '11556000', 'sell_price': '11567000', '24H_fluctate': '-573000', '24H_fluctate_rate': '-4.71', 'date': '1563948268483'}\n"
     ]
    }
   ],
   "source": [
    "import requests\n",
    "\n",
    "url = \"https://api.bithumb.com/public/ticker/btc\"\n",
    "data = requests.get(url).json()['data']\n",
    "print(data)"
   ]
  },
  {
   "cell_type": "code",
   "execution_count": 8,
   "metadata": {},
   "outputs": [
    {
     "name": "stdout",
     "output_type": "stream",
     "text": [
      "상승장\n"
     ]
    }
   ],
   "source": [
    "opening_price = float(data.get('opening_price'))\n",
    "closing_price = float(data.get('closing_price'))\n",
    "max_price = float(data.get('max_price'))\n",
    "min_price = float(data.get('min_price'))\n",
    "\n",
    "\n",
    "\n",
    "price_range = max_price - min_price\n",
    "if opening_price + price_range >= max_price:\n",
    "    print('상승장')\n",
    "    \n",
    "else:\n",
    "    print('하락장')"
   ]
  },
  {
   "cell_type": "markdown",
   "metadata": {},
   "source": [
    "# 개인정보보호\n",
    "> 사용자의 핸드폰번호를 입력 받으려고한다. 개인정보 보호를 위하여 뒷자리 4자리를 제외하고는 마스킹 처리를 하려고한다.\n",
    ">\n",
    "> 핸드폰번호는 010으로 시작해야하고 11자리여야한다. 핸드폰번호를 입력하지 않았다면 \"핸드폰번호를 입력하세요\"를 출력한다\n",
    "\n",
    "```\n",
    "예시 입력)\n",
    "01012341234\n",
    "예시 출력)\n",
    "*******1234\n",
    "```"
   ]
  },
  {
   "cell_type": "code",
   "execution_count": 24,
   "metadata": {},
   "outputs": [
    {
     "name": "stdout",
     "output_type": "stream",
     "text": [
      "01030207621\n",
      "11\n",
      "*******7621\n"
     ]
    }
   ],
   "source": [
    "# 여기에 코드를 작성하세요\n",
    "try:\n",
    "    phone = list(input())\n",
    "    count = 0\n",
    "    \n",
    "    for i in phone:\n",
    "        count += 1\n",
    "\n",
    "    print(count)\n",
    "    if count == 11:\n",
    "        confirm_phone = ''.join(phone)\n",
    "        print('*******' + confirm_phone[7:])\n",
    "\n",
    "    elif count > 11:  \n",
    "        print('핸드폰 번호는 11자리여야 합니다.')\n",
    "\n",
    "except ValueError:\n",
    "    print('숫자를 입력하세요.')"
   ]
  },
  {
   "cell_type": "code",
   "execution_count": 18,
   "metadata": {},
   "outputs": [
    {
     "name": "stdout",
     "output_type": "stream",
     "text": [
      "010302076211\n",
      "핸드폰 번호는 11자리여야 합니다.\n"
     ]
    }
   ],
   "source": [
    "phone_num = input()\n",
    "\n",
    "try:\n",
    "    numbers = [int(number) for number in phone_num]\n",
    "except:\n",
    "    print('핸드폰 번호를 입력하세요.')\n",
    "else:\n",
    "    if phone_num[0:3] == '010' and len(phone_num) == 11:\n",
    "        result = '*' * 7 + phone_num[-4:]\n",
    "        print(result)\n",
    "        \n",
    "    else:\n",
    "        print('핸드폰 번호는 11자리여야 합니다.')"
   ]
  },
  {
   "cell_type": "markdown",
   "metadata": {},
   "source": [
    "# 정중앙\n",
    "> 사용자가 입력한 문자열중 가운데 글자를 출력하라. 문자열이 짝수라면 가운데 두글자를 출력하라"
   ]
  },
  {
   "cell_type": "code",
   "execution_count": 37,
   "metadata": {},
   "outputs": [
    {
     "name": "stdout",
     "output_type": "stream",
     "text": [
      "안녕하세요\n",
      "녕하세\n",
      "녕하\n",
      "녕하\n"
     ]
    }
   ],
   "source": [
    "# 여기에 코드를 작성하세요\n",
    "\n",
    "text = list(input())\n",
    "\n",
    "middle_text = ''.join(text[1:-1])\n",
    "print(middle_text)\n",
    "\n",
    "count = 0\n",
    "for letter in text:\n",
    "    count += 1\n",
    "    \n",
    "    if count % 2 == 0:\n",
    "        middle_text = ''.join(text[1:3])\n",
    "        print(middle_text)"
   ]
  },
  {
   "cell_type": "code",
   "execution_count": 29,
   "metadata": {},
   "outputs": [
    {
     "name": "stdout",
     "output_type": "stream",
     "text": [
      "sdkmfkds\n",
      "4\n",
      "mf\n"
     ]
    }
   ],
   "source": [
    "text = input()\n",
    "num = len(text) // 2 # 몫 구하기, 정중앙\n",
    "print(num)\n",
    "\n",
    "if len(text) % 2: # 홀수 일때\n",
    "    middle = text[num] # num이라는 인덱스의 text를 가져오기\n",
    "\n",
    "else:\n",
    "    middle = text[num-1:num+1] # 정중앙의 앞 num-1 , 뒤 num +1\n",
    "    \n",
    "print(middle)"
   ]
  }
 ],
 "metadata": {
  "kernelspec": {
   "display_name": "Python 3",
   "language": "python",
   "name": "python3"
  },
  "language_info": {
   "codemirror_mode": {
    "name": "ipython",
    "version": 3
   },
   "file_extension": ".py",
   "mimetype": "text/x-python",
   "name": "python",
   "nbconvert_exporter": "python",
   "pygments_lexer": "ipython3",
   "version": "3.7.4"
  },
  "toc": {
   "base_numbering": 1,
   "nav_menu": {},
   "number_sections": true,
   "sideBar": true,
   "skip_h1_title": false,
   "title_cell": "Table of Contents",
   "title_sidebar": "Contents",
   "toc_cell": false,
   "toc_position": {},
   "toc_section_display": true,
   "toc_window_display": false
  }
 },
 "nbformat": 4,
 "nbformat_minor": 2
}
